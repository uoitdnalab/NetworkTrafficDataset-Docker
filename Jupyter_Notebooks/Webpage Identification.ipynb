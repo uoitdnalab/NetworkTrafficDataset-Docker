{
 "cells": [
  {
   "cell_type": "code",
   "execution_count": 71,
   "metadata": {},
   "outputs": [
    {
     "name": "stdout",
     "output_type": "stream",
     "text": [
      "['94eb66f1cf5fc8abad69c33b6afdbc2e68ce4c33823efbe9c727d27089314472.pcap', '8e63dc9826b53c29c3a123762f4b7091cd6dfea06dd8897f7b3d7e3681524c41.pcap', '0194b0a3a8de8e593b7db54d7e2e0d62e775eefd69152c9b7ef1df3b3f6f7d3f.pcap']\n"
     ]
    }
   ],
   "source": [
    "import os\n",
    "print(os.listdir('./PageIdentificationSamples/MsEdge'))"
   ]
  },
  {
   "cell_type": "code",
   "execution_count": 72,
   "metadata": {},
   "outputs": [],
   "source": [
    "from scapy.all import *"
   ]
  },
  {
   "cell_type": "code",
   "execution_count": 73,
   "metadata": {},
   "outputs": [],
   "source": [
    "msedge_captures = []\n",
    "msedge_captures.append(rdpcap('./PageIdentificationSamples/MsEdge/94eb66f1cf5fc8abad69c33b6afdbc2e68ce4c33823efbe9c727d27089314472.pcap'))\n",
    "msedge_captures.append(rdpcap('./PageIdentificationSamples/MsEdge/8e63dc9826b53c29c3a123762f4b7091cd6dfea06dd8897f7b3d7e3681524c41.pcap'))\n",
    "msedge_captures.append(rdpcap('./PageIdentificationSamples/MsEdge/0194b0a3a8de8e593b7db54d7e2e0d62e775eefd69152c9b7ef1df3b3f6f7d3f.pcap'))\n",
    "\n",
    "torbrowser_captures = []\n",
    "torbrowser_captures.append(rdpcap('./PageIdentificationSamples/TorBrowser/94eb66f1cf5fc8abad69c33b6afdbc2e68ce4c33823efbe9c727d27089314472.pcap'))\n",
    "torbrowser_captures.append(rdpcap('./PageIdentificationSamples/TorBrowser/8e63dc9826b53c29c3a123762f4b7091cd6dfea06dd8897f7b3d7e3681524c41.pcap'))\n",
    "torbrowser_captures.append(rdpcap('./PageIdentificationSamples/TorBrowser/0194b0a3a8de8e593b7db54d7e2e0d62e775eefd69152c9b7ef1df3b3f6f7d3f.pcap'))\n",
    "\n",
    "firefox_captures = []\n",
    "firefox_captures.append(rdpcap('./PageIdentificationSamples/Firefox/94eb66f1cf5fc8abad69c33b6afdbc2e68ce4c33823efbe9c727d27089314472.pcap'))\n",
    "firefox_captures.append(rdpcap('./PageIdentificationSamples/Firefox/8e63dc9826b53c29c3a123762f4b7091cd6dfea06dd8897f7b3d7e3681524c41.pcap'))\n",
    "firefox_captures.append(rdpcap('./PageIdentificationSamples/Firefox/0194b0a3a8de8e593b7db54d7e2e0d62e775eefd69152c9b7ef1df3b3f6f7d3f.pcap'))"
   ]
  },
  {
   "cell_type": "code",
   "execution_count": 74,
   "metadata": {},
   "outputs": [],
   "source": [
    "def get_total_rx(pcapture, dest_ip):\n",
    "    total_rx = 0\n",
    "    for pkt in pcapture:\n",
    "        if pkt.haslayer(IP):\n",
    "            if pkt[IP].dst == dest_ip:\n",
    "                total_rx += len(pkt)\n",
    "    \n",
    "    return total_rx"
   ]
  },
  {
   "cell_type": "code",
   "execution_count": 75,
   "metadata": {},
   "outputs": [
    {
     "data": {
      "text/plain": [
       "2004525"
      ]
     },
     "execution_count": 75,
     "metadata": {},
     "output_type": "execute_result"
    }
   ],
   "source": [
    "get_total_rx(msedge_captures[2], '192.168.2.15')"
   ]
  },
  {
   "cell_type": "code",
   "execution_count": 76,
   "metadata": {},
   "outputs": [],
   "source": [
    "def get_total_rx_list(capture_list, dest_ip):\n",
    "    total_rx_list = []\n",
    "    for cap in capture_list:\n",
    "        total_rx_list.append(get_total_rx(cap, dest_ip))\n",
    "    \n",
    "    return total_rx_list"
   ]
  },
  {
   "cell_type": "code",
   "execution_count": 87,
   "metadata": {},
   "outputs": [
    {
     "data": {
      "image/png": "[encoded data removed]",
      "text/plain": [
       "<matplotlib.figure.Figure at 0x7f9b59d879b0>"
      ]
     },
     "metadata": {},
     "output_type": "display_data"
    }
   ],
   "source": [
    "from matplotlib import pyplot as plt\n",
    "import numpy as np\n",
    "plt.bar(np.array([1,2,3]), get_total_rx_list(msedge_captures, '192.168.2.15'), edgecolor='black', color='w', linewidth=2, hatch='*', width=0.25, label='Microsoft Edge')\n",
    "plt.bar(np.array([1,2,3])+0.25, get_total_rx_list(torbrowser_captures, '172.21.0.2'), edgecolor='black', color='w', linewidth=2, hatch='o', width=0.25, label='Tor Browser')\n",
    "plt.bar(np.array([1,2,3])-0.25, get_total_rx_list(firefox_captures, '172.20.0.2'), edgecolor='black', color='w', linewidth=2, hatch='//', width=0.25, label='Mozilla Firefox')\n",
    "plt.yscale('log')\n",
    "plt.xlabel('WebPage')\n",
    "plt.ylabel('Bytes Received')\n",
    "plt.title('Web Page Identifiability')\n",
    "plt.legend()\n",
    "plt.show()"
   ]
  },
  {
   "cell_type": "code",
   "execution_count": null,
   "metadata": {},
   "outputs": [],
   "source": []
  }
 ],
 "metadata": {
  "kernelspec": {
   "display_name": "Python 3",
   "language": "python",
   "name": "python3"
  },
  "language_info": {
   "codemirror_mode": {
    "name": "ipython",
    "version": 3
   },
   "file_extension": ".py",
   "mimetype": "text/x-python",
   "name": "python",
   "nbconvert_exporter": "python",
   "pygments_lexer": "ipython3",
   "version": "3.6.5"
  }
 },
 "nbformat": 4,
 "nbformat_minor": 2
}
